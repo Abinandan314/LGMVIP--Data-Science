{
  "nbformat": 4,
  "nbformat_minor": 0,
  "metadata": {
    "colab": {
      "name": "Handwriten_digits_prediction_using_CNN.ipynb",
      "provenance": [],
      "collapsed_sections": []
    },
    "kernelspec": {
      "name": "python3",
      "display_name": "Python 3"
    },
    "language_info": {
      "name": "python"
    },
    "accelerator": "GPU"
  },
  "cells": [
    {
      "cell_type": "markdown",
      "metadata": {
        "id": "hcE46HD09Mvg"
      },
      "source": [
        "# **LGM INTERNSHIP DATA SCIENCE ADVANCED LEVEL TASK-1**\n",
        "\n",
        "\n",
        "\n",
        "# **Handwritten** **Digit** **Classification**\n",
        "**BY** **ABINANDAN**.**V**"
      ]
    },
    {
      "cell_type": "markdown",
      "metadata": {
        "id": "LHPxtnCD9dFt"
      },
      "source": [
        "\n",
        "Begin your neural network machine learning project with the MNIST Handwritten Digit Classification Challenge and using Tensorflow and CNN. It has a very user-friendly interface that’s ideal for beginners. Dataset can be seen on MNIST"
      ]
    },
    {
      "cell_type": "code",
      "metadata": {
        "id": "VXpL1KV7rCBh"
      },
      "source": [
        "import tensorflow as tf\n",
        "from tensorflow import keras\n",
        "from tensorflow.keras import layers\n",
        "import matplotlib.pyplot as plt\n",
        "import numpy as np\n",
        "import pandas as pd"
      ],
      "execution_count": null,
      "outputs": []
    },
    {
      "cell_type": "markdown",
      "metadata": {
        "id": "nP1HJvDdvzoM"
      },
      "source": [
        "# ***Checking for GPU***"
      ]
    },
    {
      "cell_type": "code",
      "metadata": {
        "colab": {
          "base_uri": "https://localhost:8080/"
        },
        "id": "O6ybmxg9tjNH",
        "outputId": "f954aaa4-bd73-4743-fd41-e83d1c70f545"
      },
      "source": [
        "tf.test.is_gpu_available()"
      ],
      "execution_count": null,
      "outputs": [
        {
          "output_type": "stream",
          "text": [
            "WARNING:tensorflow:From <ipython-input-33-17bb7203622b>:1: is_gpu_available (from tensorflow.python.framework.test_util) is deprecated and will be removed in a future version.\n",
            "Instructions for updating:\n",
            "Use `tf.config.list_physical_devices('GPU')` instead.\n"
          ],
          "name": "stdout"
        },
        {
          "output_type": "execute_result",
          "data": {
            "text/plain": [
              "True"
            ]
          },
          "metadata": {
            "tags": []
          },
          "execution_count": 33
        }
      ]
    },
    {
      "cell_type": "markdown",
      "metadata": {
        "id": "39u3eU_qwCb3"
      },
      "source": [
        "# ***LOADING*** ***DATASET***"
      ]
    },
    {
      "cell_type": "code",
      "metadata": {
        "colab": {
          "base_uri": "https://localhost:8080/"
        },
        "id": "z7ZJOHyQrVwT",
        "outputId": "4374221c-c800-458d-96b2-02d9a3d9ebee"
      },
      "source": [
        "(X_train,y_train),(X_test,y_test) = keras.datasets.mnist.load_data()"
      ],
      "execution_count": null,
      "outputs": [
        {
          "output_type": "stream",
          "text": [
            "Downloading data from https://storage.googleapis.com/tensorflow/tf-keras-datasets/mnist.npz\n",
            "11493376/11490434 [==============================] - 0s 0us/step\n"
          ],
          "name": "stdout"
        }
      ]
    },
    {
      "cell_type": "code",
      "metadata": {
        "colab": {
          "base_uri": "https://localhost:8080/"
        },
        "id": "NLNakksMrYJy",
        "outputId": "5cc75ea6-158b-4f6c-f2e4-d5e7e0834450"
      },
      "source": [
        "X_train.shape"
      ],
      "execution_count": null,
      "outputs": [
        {
          "output_type": "execute_result",
          "data": {
            "text/plain": [
              "(60000, 28, 28)"
            ]
          },
          "metadata": {
            "tags": []
          },
          "execution_count": 3
        }
      ]
    },
    {
      "cell_type": "code",
      "metadata": {
        "id": "xznr3b7uradv"
      },
      "source": [
        "x_train = tf.expand_dims(X_train, axis=-1)\n"
      ],
      "execution_count": null,
      "outputs": []
    },
    {
      "cell_type": "code",
      "metadata": {
        "id": "YCSq2dcysu6L"
      },
      "source": [
        "x_test = tf.expand_dims(X_test,axis =-1)"
      ],
      "execution_count": null,
      "outputs": []
    },
    {
      "cell_type": "code",
      "metadata": {
        "colab": {
          "base_uri": "https://localhost:8080/"
        },
        "id": "3cqjBuYMrcbe",
        "outputId": "764ff4f4-7aaa-4a58-fd1d-86b1f6d73dc6"
      },
      "source": [
        "y_train.shape"
      ],
      "execution_count": null,
      "outputs": [
        {
          "output_type": "execute_result",
          "data": {
            "text/plain": [
              "(60000,)"
            ]
          },
          "metadata": {
            "tags": []
          },
          "execution_count": 5
        }
      ]
    },
    {
      "cell_type": "code",
      "metadata": {
        "colab": {
          "base_uri": "https://localhost:8080/"
        },
        "id": "OiHvyz7krfxl",
        "outputId": "9720072a-8825-43b9-90f5-bb2c8cbaba08"
      },
      "source": [
        "y_train[:5]"
      ],
      "execution_count": null,
      "outputs": [
        {
          "output_type": "execute_result",
          "data": {
            "text/plain": [
              "array([5, 0, 4, 1, 9], dtype=uint8)"
            ]
          },
          "metadata": {
            "tags": []
          },
          "execution_count": 6
        }
      ]
    },
    {
      "cell_type": "markdown",
      "metadata": {
        "id": "ltiOBcZawQqg"
      },
      "source": [
        "# ***PLOTTING AND SCALING***"
      ]
    },
    {
      "cell_type": "code",
      "metadata": {
        "id": "Nb2RoL3Lrhyf"
      },
      "source": [
        "import matplotlib.pyplot as plt\n",
        "def show(x,index):\n",
        "    plt.figure(figsize=(5,2))\n",
        "    plt.imshow(x[index],cmap = plt.cm.binary)"
      ],
      "execution_count": null,
      "outputs": []
    },
    {
      "cell_type": "code",
      "metadata": {
        "colab": {
          "base_uri": "https://localhost:8080/",
          "height": 159
        },
        "id": "8PpM-PDMrjpK",
        "outputId": "bd57b99c-b707-4284-aa65-5abbffef08ef"
      },
      "source": [
        "show(X_train,0)"
      ],
      "execution_count": null,
      "outputs": [
        {
          "output_type": "display_data",
          "data": {
            "image/png": "[encoded data removed]",
            "text/plain": [
              "<Figure size 360x144 with 1 Axes>"
            ]
          },
          "metadata": {
            "tags": [],
            "needs_background": "light"
          }
        }
      ]
    },
    {
      "cell_type": "code",
      "metadata": {
        "id": "avvNcWEorl70"
      },
      "source": [
        "X_train = X_train/255\n",
        "X_test = X_test/255\n",
        "x_train = X_train/255"
      ],
      "execution_count": null,
      "outputs": []
    },
    {
      "cell_type": "code",
      "metadata": {
        "colab": {
          "base_uri": "https://localhost:8080/"
        },
        "id": "OfmF_lsErs7h",
        "outputId": "57fba75f-ec0d-4ea0-bbe8-cd37b3fc9f37"
      },
      "source": [
        "x_train[:5]"
      ],
      "execution_count": null,
      "outputs": [
        {
          "output_type": "execute_result",
          "data": {
            "text/plain": [
              "array([[[0., 0., 0., ..., 0., 0., 0.],\n",
              "        [0., 0., 0., ..., 0., 0., 0.],\n",
              "        [0., 0., 0., ..., 0., 0., 0.],\n",
              "        ...,\n",
              "        [0., 0., 0., ..., 0., 0., 0.],\n",
              "        [0., 0., 0., ..., 0., 0., 0.],\n",
              "        [0., 0., 0., ..., 0., 0., 0.]],\n",
              "\n",
              "       [[0., 0., 0., ..., 0., 0., 0.],\n",
              "        [0., 0., 0., ..., 0., 0., 0.],\n",
              "        [0., 0., 0., ..., 0., 0., 0.],\n",
              "        ...,\n",
              "        [0., 0., 0., ..., 0., 0., 0.],\n",
              "        [0., 0., 0., ..., 0., 0., 0.],\n",
              "        [0., 0., 0., ..., 0., 0., 0.]],\n",
              "\n",
              "       [[0., 0., 0., ..., 0., 0., 0.],\n",
              "        [0., 0., 0., ..., 0., 0., 0.],\n",
              "        [0., 0., 0., ..., 0., 0., 0.],\n",
              "        ...,\n",
              "        [0., 0., 0., ..., 0., 0., 0.],\n",
              "        [0., 0., 0., ..., 0., 0., 0.],\n",
              "        [0., 0., 0., ..., 0., 0., 0.]],\n",
              "\n",
              "       [[0., 0., 0., ..., 0., 0., 0.],\n",
              "        [0., 0., 0., ..., 0., 0., 0.],\n",
              "        [0., 0., 0., ..., 0., 0., 0.],\n",
              "        ...,\n",
              "        [0., 0., 0., ..., 0., 0., 0.],\n",
              "        [0., 0., 0., ..., 0., 0., 0.],\n",
              "        [0., 0., 0., ..., 0., 0., 0.]],\n",
              "\n",
              "       [[0., 0., 0., ..., 0., 0., 0.],\n",
              "        [0., 0., 0., ..., 0., 0., 0.],\n",
              "        [0., 0., 0., ..., 0., 0., 0.],\n",
              "        ...,\n",
              "        [0., 0., 0., ..., 0., 0., 0.],\n",
              "        [0., 0., 0., ..., 0., 0., 0.],\n",
              "        [0., 0., 0., ..., 0., 0., 0.]]])"
            ]
          },
          "metadata": {
            "tags": []
          },
          "execution_count": 12
        }
      ]
    },
    {
      "cell_type": "markdown",
      "metadata": {
        "id": "iGg0lhfhwbqH"
      },
      "source": [
        "# ***CNN*** ***MODEL*** ***CREATION***"
      ]
    },
    {
      "cell_type": "code",
      "metadata": {
        "id": "_UnpDrymz5HT"
      },
      "source": [
        "cnn1 = tf.keras.Sequential([  layers.Conv2D(filters=32,kernel_size=(3,3),activation='relu',input_shape=(28,28,1)),\n",
        "                             layers.MaxPool2D((2,2)),\n",
        "                             \n",
        "                             layers.Flatten(input_shape = (28,28)),\n",
        "                             layers.Dense(4000,activation = 'relu'),\n",
        "                             layers.Dense(10,activation = 'softmax')])"
      ],
      "execution_count": null,
      "outputs": []
    },
    {
      "cell_type": "code",
      "metadata": {
        "id": "VMpI9nMS2bac"
      },
      "source": [
        "cnn1.compile(loss = 'sparse_categorical_crossentropy',metrics = ['accuracy'],optimizer = 'adam')"
      ],
      "execution_count": null,
      "outputs": []
    },
    {
      "cell_type": "code",
      "metadata": {
        "colab": {
          "base_uri": "https://localhost:8080/"
        },
        "id": "jOpDfScB2ebA",
        "outputId": "f02e9e11-6834-463e-fe8f-02e6c5ac2dfa"
      },
      "source": [
        "history = cnn1.fit(x_train,y_train,epochs = 5,validation_data=(x_test,y_test))"
      ],
      "execution_count": null,
      "outputs": [
        {
          "output_type": "stream",
          "text": [
            "Epoch 1/5\n",
            "1875/1875 [==============================] - 13s 7ms/step - loss: 0.0084 - accuracy: 0.9975 - val_loss: 0.0787 - val_accuracy: 0.9838\n",
            "Epoch 2/5\n",
            "1875/1875 [==============================] - 12s 7ms/step - loss: 0.0074 - accuracy: 0.9977 - val_loss: 0.0741 - val_accuracy: 0.9851\n",
            "Epoch 3/5\n",
            "1875/1875 [==============================] - 12s 7ms/step - loss: 0.0058 - accuracy: 0.9981 - val_loss: 0.0661 - val_accuracy: 0.9866\n",
            "Epoch 4/5\n",
            "1875/1875 [==============================] - 13s 7ms/step - loss: 0.0044 - accuracy: 0.9986 - val_loss: 0.0807 - val_accuracy: 0.9865\n",
            "Epoch 5/5\n",
            "1875/1875 [==============================] - 13s 7ms/step - loss: 0.0066 - accuracy: 0.9982 - val_loss: 0.0887 - val_accuracy: 0.9844\n"
          ],
          "name": "stdout"
        }
      ]
    },
    {
      "cell_type": "markdown",
      "metadata": {
        "id": "pIqEe5Jo7m25"
      },
      "source": [
        "# ***METRICS*** ***CALCULATION*** ***AND*** ***PLOTTING***"
      ]
    },
    {
      "cell_type": "code",
      "metadata": {
        "id": "AgW-MKTK3E9P"
      },
      "source": [
        "acc = history.history['accuracy']"
      ],
      "execution_count": null,
      "outputs": []
    },
    {
      "cell_type": "code",
      "metadata": {
        "colab": {
          "base_uri": "https://localhost:8080/"
        },
        "id": "kEDr5c8-6FIQ",
        "outputId": "35454ee6-617b-4ac2-becd-a483bdc06967"
      },
      "source": [
        "val_acc = history.history['val_accuracy']\n",
        "val_acc"
      ],
      "execution_count": null,
      "outputs": [
        {
          "output_type": "execute_result",
          "data": {
            "text/plain": [
              "[0.9837999939918518,\n",
              " 0.9850999712944031,\n",
              " 0.9865999817848206,\n",
              " 0.9865000247955322,\n",
              " 0.9843999743461609]"
            ]
          },
          "metadata": {
            "tags": []
          },
          "execution_count": 91
        }
      ]
    },
    {
      "cell_type": "code",
      "metadata": {
        "colab": {
          "base_uri": "https://localhost:8080/",
          "height": 435
        },
        "id": "njrFTbto6Hae",
        "outputId": "7e8967e4-e845-44d8-d07c-69d9023c3945"
      },
      "source": [
        "loss = history.history['loss']\n",
        "val_loss = history.history['val_loss']\n",
        "\n",
        "epochs_range = range(5)\n",
        "\n",
        "plt.figure(figsize=(15, 15))\n",
        "plt.subplot(2, 2, 1)\n",
        "plt.plot(epochs_range, acc, label='Training Accuracy')\n",
        "plt.plot(epochs_range, val_acc, label='Validation Accuracy')\n",
        "plt.legend(loc='lower right')\n",
        "\n",
        "plt.title('Training and Validation Accuracy')\n",
        "\n",
        "plt.subplot(2, 2, 2)\n",
        "plt.plot(epochs_range, loss, label='Training Loss')\n",
        "plt.plot(epochs_range, val_loss, label='Validation Loss')\n",
        "plt.legend(loc='upper right')\n",
        "plt.title('Training and Validation Loss')\n",
        "plt.show()"
      ],
      "execution_count": null,
      "outputs": [
        {
          "output_type": "display_data",
          "data": {
            "image/png": "[encoded data removed]",
            "text/plain": [
              "<Figure size 1080x1080 with 2 Axes>"
            ]
          },
          "metadata": {
            "tags": [],
            "needs_background": "light"
          }
        }
      ]
    },
    {
      "cell_type": "code",
      "metadata": {
        "id": "9_x2fb186-zV"
      },
      "source": [
        "y_pred = cnn1.predict(x_test)"
      ],
      "execution_count": null,
      "outputs": []
    },
    {
      "cell_type": "code",
      "metadata": {
        "colab": {
          "base_uri": "https://localhost:8080/"
        },
        "id": "X0kfxvL27Bt3",
        "outputId": "e0b9f9f6-d550-4ab6-8c8d-3129697ad6cb"
      },
      "source": [
        "y_pred"
      ],
      "execution_count": null,
      "outputs": [
        {
          "output_type": "execute_result",
          "data": {
            "text/plain": [
              "array([[1.2782039e-24, 4.3799045e-17, 3.4568417e-17, ..., 1.0000000e+00,\n",
              "        4.1733692e-20, 1.2861693e-20],\n",
              "       [2.3834242e-22, 2.2568965e-17, 1.0000000e+00, ..., 1.4485986e-25,\n",
              "        8.6291858e-25, 1.0639943e-24],\n",
              "       [4.2544621e-21, 1.0000000e+00, 4.1255349e-20, ..., 4.3991297e-16,\n",
              "        7.5153024e-22, 1.1945401e-22],\n",
              "       ...,\n",
              "       [3.1215904e-25, 2.4030347e-14, 9.8075952e-23, ..., 6.1783108e-15,\n",
              "        5.4908260e-16, 3.0962234e-17],\n",
              "       [2.0756355e-21, 1.4777589e-21, 3.3140321e-23, ..., 3.3080091e-22,\n",
              "        7.0082189e-13, 6.2518657e-19],\n",
              "       [4.7148961e-17, 7.6809801e-20, 3.7240467e-24, ..., 2.0039811e-25,\n",
              "        1.9992217e-20, 3.3407780e-22]], dtype=float32)"
            ]
          },
          "metadata": {
            "tags": []
          },
          "execution_count": 95
        }
      ]
    },
    {
      "cell_type": "code",
      "metadata": {
        "colab": {
          "base_uri": "https://localhost:8080/"
        },
        "id": "gmYXtiob7IJP",
        "outputId": "f2ca9d4a-04d3-49a3-e5dd-c6b475f92662"
      },
      "source": [
        "y_pred_list = [np.argmax(i) for i in y_pred]\n",
        "y_pred_list[:5]"
      ],
      "execution_count": null,
      "outputs": [
        {
          "output_type": "execute_result",
          "data": {
            "text/plain": [
              "[7, 2, 1, 0, 4]"
            ]
          },
          "metadata": {
            "tags": []
          },
          "execution_count": 98
        }
      ]
    },
    {
      "cell_type": "code",
      "metadata": {
        "colab": {
          "base_uri": "https://localhost:8080/"
        },
        "id": "6ncsZlEm7Qa-",
        "outputId": "ffca7e06-c2e1-4ab8-8b29-e62a0918b584"
      },
      "source": [
        "y_test[:5]"
      ],
      "execution_count": null,
      "outputs": [
        {
          "output_type": "execute_result",
          "data": {
            "text/plain": [
              "array([7, 2, 1, 0, 4], dtype=uint8)"
            ]
          },
          "metadata": {
            "tags": []
          },
          "execution_count": 99
        }
      ]
    },
    {
      "cell_type": "code",
      "metadata": {
        "id": "WOmcLieh6Lk_"
      },
      "source": [
        "from sklearn import metrics\n",
        "import seaborn as sns\n",
        "def modelshow(x,y):\n",
        "  print(metrics.classification_report(x,y))\n",
        "  print(metrics.confusion_matrix(x,y))\n",
        "  plt.figure(figsize=(12,10))\n",
        "  sns.heatmap(metrics.confusion_matrix(x,y),annot=True,cmap='autumn',fmt='d')"
      ],
      "execution_count": null,
      "outputs": []
    },
    {
      "cell_type": "code",
      "metadata": {
        "colab": {
          "base_uri": "https://localhost:8080/",
          "height": 1000
        },
        "id": "DuNxn8kt60Ib",
        "outputId": "51d40ead-360c-450f-bbf4-f89e747827d7"
      },
      "source": [
        "modelshow(y_test,y_pred_list)"
      ],
      "execution_count": null,
      "outputs": [
        {
          "output_type": "stream",
          "text": [
            "              precision    recall  f1-score   support\n",
            "\n",
            "           0       0.99      0.99      0.99       980\n",
            "           1       0.99      0.99      0.99      1135\n",
            "           2       0.99      0.99      0.99      1032\n",
            "           3       0.98      0.99      0.99      1010\n",
            "           4       0.97      0.99      0.98       982\n",
            "           5       0.98      0.98      0.98       892\n",
            "           6       0.98      0.99      0.99       958\n",
            "           7       0.98      0.99      0.99      1028\n",
            "           8       0.99      0.98      0.99       974\n",
            "           9       1.00      0.94      0.96      1009\n",
            "\n",
            "    accuracy                           0.98     10000\n",
            "   macro avg       0.98      0.98      0.98     10000\n",
            "weighted avg       0.98      0.98      0.98     10000\n",
            "\n",
            "[[ 974    1    0    0    0    0    4    1    0    0]\n",
            " [   0 1129    3    0    0    1    1    1    0    0]\n",
            " [   4    1 1017    2    0    0    0    7    1    0]\n",
            " [   0    0    1 1001    0    5    0    1    2    0]\n",
            " [   0    1    0    0  976    0    4    0    0    1]\n",
            " [   1    0    1    9    0  877    4    0    0    0]\n",
            " [   2    4    0    1    0    2  948    0    1    0]\n",
            " [   0    2    4    0    0    0    0 1021    0    1]\n",
            " [   3    0    3    0    4    1    2    2  957    2]\n",
            " [   2    3    2    7   28    8    0    9    6  944]]\n"
          ],
          "name": "stdout"
        },
        {
          "output_type": "display_data",
          "data": {
            "image/png": "[encoded data removed]",
            "text/plain": [
              "<Figure size 864x720 with 2 Axes>"
            ]
          },
          "metadata": {
            "tags": [],
            "needs_background": "light"
          }
        }
      ]
    },
    {
      "cell_type": "markdown",
      "metadata": {
        "id": "T1rc8Hpw72RT"
      },
      "source": [
        "# ***CONCLUSION***"
      ]
    },
    {
      "cell_type": "markdown",
      "metadata": {
        "id": "JPw5IQCJ8Fua"
      },
      "source": [
        "This model uses an CNN Model to predict the handwritten digits in the mnist dataset. It aslo provides an astonishing Test accuracy of 98%. I have plotted the loss and accuracy differences between test set and train set which is very small."
      ]
    }
  ]
}
